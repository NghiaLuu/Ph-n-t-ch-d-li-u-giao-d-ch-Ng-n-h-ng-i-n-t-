{
 "cells": [
  {
   "cell_type": "code",
   "execution_count": 13,
   "metadata": {},
   "outputs": [
    {
     "data": {
      "text/html": [
       "<div>\n",
       "<style scoped>\n",
       "    .dataframe tbody tr th:only-of-type {\n",
       "        vertical-align: middle;\n",
       "    }\n",
       "\n",
       "    .dataframe tbody tr th {\n",
       "        vertical-align: top;\n",
       "    }\n",
       "\n",
       "    .dataframe thead th {\n",
       "        text-align: right;\n",
       "    }\n",
       "</style>\n",
       "<table border=\"1\" class=\"dataframe\">\n",
       "  <thead>\n",
       "    <tr style=\"text-align: right;\">\n",
       "      <th></th>\n",
       "      <th>BRANCH_ID</th>\n",
       "      <th>CHANNEL_ID</th>\n",
       "      <th>AMOUNT</th>\n",
       "      <th>TRAN_TYPE</th>\n",
       "      <th>TRAN_TIME</th>\n",
       "    </tr>\n",
       "  </thead>\n",
       "  <tbody>\n",
       "    <tr>\n",
       "      <td>0</td>\n",
       "      <td>BR0001</td>\n",
       "      <td>MOBILE</td>\n",
       "      <td>3020080</td>\n",
       "      <td>BOOKING ORDER</td>\n",
       "      <td>12/01/2019 1:11</td>\n",
       "    </tr>\n",
       "    <tr>\n",
       "      <td>1</td>\n",
       "      <td>BR0002</td>\n",
       "      <td>ATM</td>\n",
       "      <td>2001100</td>\n",
       "      <td>CASH TRANSACTIONS</td>\n",
       "      <td>12/01/2019 11:01</td>\n",
       "    </tr>\n",
       "    <tr>\n",
       "      <td>2</td>\n",
       "      <td>BR0004</td>\n",
       "      <td>MOBILE</td>\n",
       "      <td>2140140</td>\n",
       "      <td>BOOKING ORDER</td>\n",
       "      <td>12/01/2019 1:11</td>\n",
       "    </tr>\n",
       "    <tr>\n",
       "      <td>3</td>\n",
       "      <td>BR0002</td>\n",
       "      <td>INTERNET</td>\n",
       "      <td>4293000</td>\n",
       "      <td>FINANCIAL POSTING</td>\n",
       "      <td>12/01/2019 6:50</td>\n",
       "    </tr>\n",
       "    <tr>\n",
       "      <td>4</td>\n",
       "      <td>BR0003</td>\n",
       "      <td>MOBILE</td>\n",
       "      <td>3046430</td>\n",
       "      <td>BOOKING ORDER</td>\n",
       "      <td>12/01/2019 1:11</td>\n",
       "    </tr>\n",
       "  </tbody>\n",
       "</table>\n",
       "</div>"
      ],
      "text/plain": [
       "  BRANCH_ID CHANNEL_ID   AMOUNT          TRAN_TYPE         TRAN_TIME\n",
       "0    BR0001     MOBILE  3020080      BOOKING ORDER   12/01/2019 1:11\n",
       "1    BR0002        ATM  2001100  CASH TRANSACTIONS  12/01/2019 11:01\n",
       "2    BR0004     MOBILE  2140140      BOOKING ORDER   12/01/2019 1:11\n",
       "3    BR0002   INTERNET  4293000  FINANCIAL POSTING   12/01/2019 6:50\n",
       "4    BR0003     MOBILE  3046430      BOOKING ORDER   12/01/2019 1:11"
      ]
     },
     "execution_count": 13,
     "metadata": {},
     "output_type": "execute_result"
    }
   ],
   "source": [
    "\n",
    "# Load thư viện\n",
    "import pandas as pd\n",
    "import numpy as np\n",
    "from matplotlib import pyplot as plt\n",
    "\n",
    "\n",
    "# Đọc file csv\n",
    "df = pd.read_csv(\"S2_DataFile(2).csv\")\n",
    " \n",
    "# Hiển thị 5 dòng đầu tiên\n",
    "df.head(5)"
   ]
  },
  {
   "cell_type": "code",
   "execution_count": 14,
   "metadata": {},
   "outputs": [
    {
     "name": "stdout",
     "output_type": "stream",
     "text": [
      "object\n"
     ]
    }
   ],
   "source": [
    "#Kiểm tra dữ liệu\n",
    "print(df['TRAN_TYPE'].dtypes)"
   ]
  },
  {
   "cell_type": "code",
   "execution_count": 15,
   "metadata": {},
   "outputs": [
    {
     "name": "stdout",
     "output_type": "stream",
     "text": [
      "datetime64[ns]\n"
     ]
    }
   ],
   "source": [
    "# Convert về dạng DateTime\n",
    "df['TRAN_TIME'] = pd.to_datetime(df['TRAN_TIME'],format='%d/%m/%Y %H:%M')\n",
    "\n",
    "# In kiểu dữ liệu\n",
    "print(df['TRAN_TIME'].dtype)"
   ]
  },
  {
   "cell_type": "code",
   "execution_count": 16,
   "metadata": {},
   "outputs": [
    {
     "name": "stdout",
     "output_type": "stream",
     "text": [
      "count    5.000000e+02\n",
      "mean     3.529194e+06\n",
      "std      1.602360e+07\n",
      "min     -2.000000e+06\n",
      "25%      7.883650e+04\n",
      "50%      1.002200e+06\n",
      "75%      3.000000e+06\n",
      "max      3.000000e+08\n",
      "Name: AMOUNT, dtype: float64\n"
     ]
    }
   ],
   "source": [
    "# Check tổng quan dữ liệu\n",
    "print(df['AMOUNT'].describe())"
   ]
  },
  {
   "cell_type": "code",
   "execution_count": 17,
   "metadata": {},
   "outputs": [],
   "source": [
    "\n",
    "# Tạo mask để lấy các bản ghi hợp lệ\n",
    "mask = df['AMOUNT'] > 0\n",
    " \n",
    "# Lấy các bản ghi không lỗi\n",
    "df = df[mask]"
   ]
  },
  {
   "cell_type": "code",
   "execution_count": 18,
   "metadata": {},
   "outputs": [
    {
     "name": "stdout",
     "output_type": "stream",
     "text": [
      "count    4.980000e+02\n",
      "mean     3.547383e+06\n",
      "std      1.605310e+07\n",
      "min      1.000000e+01\n",
      "25%      8.418000e+04\n",
      "50%      1.006600e+06\n",
      "75%      3.000000e+06\n",
      "max      3.000000e+08\n",
      "Name: AMOUNT, dtype: float64\n"
     ]
    }
   ],
   "source": [
    "print(df['AMOUNT'].describe())"
   ]
  },
  {
   "cell_type": "code",
   "execution_count": 19,
   "metadata": {},
   "outputs": [
    {
     "name": "stdout",
     "output_type": "stream",
     "text": [
      "    TRAN_HOUR           TRAN_TIME\n",
      "0          01 2019-01-12 01:11:00\n",
      "1          11 2019-01-12 11:01:00\n",
      "2          01 2019-01-12 01:11:00\n",
      "3          06 2019-01-12 06:50:00\n",
      "4          01 2019-01-12 01:11:00\n",
      "..        ...                 ...\n",
      "495        08 2019-01-12 08:45:00\n",
      "496        21 2019-04-11 21:13:00\n",
      "497        10 2019-01-12 10:53:00\n",
      "498        08 2019-01-12 08:58:00\n",
      "499        09 2019-01-12 09:13:00\n",
      "\n",
      "[498 rows x 2 columns]\n"
     ]
    }
   ],
   "source": [
    "\n",
    "# Tạo cột giờ\n",
    "df['TRAN_HOUR'] = df['TRAN_TIME'].dt.strftime('%H')\n",
    " \n",
    "# Kiểm tra thử\n",
    "print(df[['TRAN_HOUR','TRAN_TIME']])"
   ]
  },
  {
   "cell_type": "code",
   "execution_count": 23,
   "metadata": {},
   "outputs": [
    {
     "ename": "KeyError",
     "evalue": "'Column not found: AMOUNT'",
     "output_type": "error",
     "traceback": [
      "\u001b[1;31m---------------------------------------------------------------------------\u001b[0m",
      "\u001b[1;31mKeyError\u001b[0m                                  Traceback (most recent call last)",
      "\u001b[1;32m<ipython-input-23-dd21b70069dc>\u001b[0m in \u001b[0;36m<module>\u001b[1;34m\u001b[0m\n\u001b[0;32m      1\u001b[0m \u001b[1;31m#BIỂU ĐỒ 1. BIỂU ĐỒ PIE VỀ TỶ LỆ SÔ TIỀN GIAO DỊCH TRÊN CÁC KÊNH\u001b[0m\u001b[1;33m\u001b[0m\u001b[1;33m\u001b[0m\u001b[1;33m\u001b[0m\u001b[0m\n\u001b[0;32m      2\u001b[0m \u001b[1;31m# Thực hiện group by channel và tính tổng số tiền giao dịch\u001b[0m\u001b[1;33m\u001b[0m\u001b[1;33m\u001b[0m\u001b[1;33m\u001b[0m\u001b[0m\n\u001b[1;32m----> 3\u001b[1;33m \u001b[0msum_AMT_byChannel\u001b[0m \u001b[1;33m=\u001b[0m \u001b[0mdf\u001b[0m\u001b[1;33m.\u001b[0m\u001b[0mgroupby\u001b[0m\u001b[1;33m(\u001b[0m\u001b[1;33m[\u001b[0m\u001b[1;34m'CHANNEL_ID'\u001b[0m\u001b[1;33m]\u001b[0m\u001b[1;33m)\u001b[0m\u001b[1;33m[\u001b[0m\u001b[1;34m'AMOUNT'\u001b[0m\u001b[1;33m]\u001b[0m\u001b[1;33m.\u001b[0m\u001b[0msum\u001b[0m\u001b[1;33m(\u001b[0m\u001b[1;33m)\u001b[0m\u001b[1;33m.\u001b[0m\u001b[0mreset_index\u001b[0m\u001b[1;33m(\u001b[0m\u001b[0mname\u001b[0m\u001b[1;33m=\u001b[0m\u001b[1;34m'SUM_AMT_BY_CHN'\u001b[0m\u001b[1;33m)\u001b[0m\u001b[1;33m\u001b[0m\u001b[1;33m\u001b[0m\u001b[0m\n\u001b[0m\u001b[0;32m      4\u001b[0m \u001b[0mprint\u001b[0m\u001b[1;33m(\u001b[0m\u001b[0msum_AMT_byChannel\u001b[0m\u001b[1;33m)\u001b[0m\u001b[1;33m\u001b[0m\u001b[1;33m\u001b[0m\u001b[0m\n\u001b[0;32m      5\u001b[0m \u001b[1;33m\u001b[0m\u001b[0m\n",
      "\u001b[1;32mC:\\ProgramData\\Anaconda3\\lib\\site-packages\\pandas\\core\\base.py\u001b[0m in \u001b[0;36m__getitem__\u001b[1;34m(self, key)\u001b[0m\n\u001b[0;32m    266\u001b[0m         \u001b[1;32melse\u001b[0m\u001b[1;33m:\u001b[0m\u001b[1;33m\u001b[0m\u001b[1;33m\u001b[0m\u001b[0m\n\u001b[0;32m    267\u001b[0m             \u001b[1;32mif\u001b[0m \u001b[0mkey\u001b[0m \u001b[1;32mnot\u001b[0m \u001b[1;32min\u001b[0m \u001b[0mself\u001b[0m\u001b[1;33m.\u001b[0m\u001b[0mobj\u001b[0m\u001b[1;33m:\u001b[0m\u001b[1;33m\u001b[0m\u001b[1;33m\u001b[0m\u001b[0m\n\u001b[1;32m--> 268\u001b[1;33m                 \u001b[1;32mraise\u001b[0m \u001b[0mKeyError\u001b[0m\u001b[1;33m(\u001b[0m\u001b[1;34m\"Column not found: {key}\"\u001b[0m\u001b[1;33m.\u001b[0m\u001b[0mformat\u001b[0m\u001b[1;33m(\u001b[0m\u001b[0mkey\u001b[0m\u001b[1;33m=\u001b[0m\u001b[0mkey\u001b[0m\u001b[1;33m)\u001b[0m\u001b[1;33m)\u001b[0m\u001b[1;33m\u001b[0m\u001b[1;33m\u001b[0m\u001b[0m\n\u001b[0m\u001b[0;32m    269\u001b[0m             \u001b[1;32mreturn\u001b[0m \u001b[0mself\u001b[0m\u001b[1;33m.\u001b[0m\u001b[0m_gotitem\u001b[0m\u001b[1;33m(\u001b[0m\u001b[0mkey\u001b[0m\u001b[1;33m,\u001b[0m \u001b[0mndim\u001b[0m\u001b[1;33m=\u001b[0m\u001b[1;36m1\u001b[0m\u001b[1;33m)\u001b[0m\u001b[1;33m\u001b[0m\u001b[1;33m\u001b[0m\u001b[0m\n\u001b[0;32m    270\u001b[0m \u001b[1;33m\u001b[0m\u001b[0m\n",
      "\u001b[1;31mKeyError\u001b[0m: 'Column not found: AMOUNT'"
     ]
    }
   ],
   "source": [
    "#BIỂU ĐỒ 1. BIỂU ĐỒ PIE VỀ TỶ LỆ SÔ TIỀN GIAO DỊCH TRÊN CÁC KÊNH\n",
    "# Thực hiện group by channel và tính tổng số tiền giao dịch\n",
    "sum_AMT_byChannel = df.groupby(['CHANNEL_ID'])['AMOUNT'].sum().reset_index(name='SUM_AMT_BY_CHN')\n",
    "print(sum_AMT_byChannel)\n",
    " \n",
    "df_plot = sum_AMT_byChannel\n",
    "df_plot = df_plot.set_index('CHANNEL_ID')\n",
    "print(df_plot)\n",
    "plot = df_plot.plot.pie(y='SUM_AMT_BY_CHN',subplots=True, figsize=(8, 8))\n",
    " \n",
    "# TRANG TRÍ VÀ HIEN THI BIEU DO\n",
    "plt.title(\"DOANH SỐ GIAO DỊCH THEO KÊNH\")\n",
    "plt.ylabel(\"\")\n",
    "plt.show()"
   ]
  },
  {
   "cell_type": "code",
   "execution_count": 21,
   "metadata": {},
   "outputs": [
    {
     "name": "stdout",
     "output_type": "stream",
     "text": [
      "  CHANNEL_ID  COUNTS\n",
      "0        ATM      98\n",
      "1   INTERNET      72\n",
      "2     MOBILE     328\n",
      "  CHANNEL_ID  SUM_AMT_BY_CHN  COUNTS\n",
      "0        ATM       179502250      98\n",
      "1   INTERNET       768629241      72\n",
      "2     MOBILE       818465352     328\n",
      "            SUM_AMT_BY_CHN  COUNTS\n",
      "CHANNEL_ID                        \n",
      "ATM              179502250      98\n",
      "INTERNET         768629241      72\n",
      "MOBILE           818465352     328\n",
      "            SUM_AMT_BY_CHN  COUNTS   %_DOANHSO   %_SOLUONG\n",
      "CHANNEL_ID                                                \n",
      "ATM              179502250      98   21.931564   29.878049\n",
      "INTERNET         768629241      72   93.911030   21.951220\n",
      "MOBILE           818465352     328  100.000000  100.000000\n"
     ]
    },
    {
     "data": {
      "image/png": "[encoded data removed]",
      "text/plain": [
       "<Figure size 432x288 with 1 Axes>"
      ]
     },
     "metadata": {
      "needs_background": "light"
     },
     "output_type": "display_data"
    }
   ],
   "source": [
    "#BIỂU ĐỒ 2. BIỂU ĐỒ CỘT VỀ SỐ LƯỢNG VÀ DOANH SỐ GIAO DỊCH THEO KÊNH\n",
    "# 8. VE BIEU DO DANH DOANH SO VA SO LUONG GIAO DICH TREN CAC KENH GIAO DICH\n",
    "count_byChannel = df.groupby(['CHANNEL_ID']).size().reset_index(name='COUNTS')\n",
    "print(count_byChannel)\n",
    "df_plot2 = sum_AMT_byChannel.merge(count_byChannel, on=['CHANNEL_ID'])\n",
    "print(df_plot2)\n",
    "df_plot2 = df_plot2.set_index('CHANNEL_ID')\n",
    "print(df_plot2)\n",
    " \n",
    "# Quy đổi dữ liệu Doanh số về phần trăm để biểu diễn tính tương quan của dữ liệu\n",
    "max_amt = df_plot2['SUM_AMT_BY_CHN'].max()\n",
    "df_plot2['%_DOANHSO'] =df_plot2['SUM_AMT_BY_CHN']*100/max_amt\n",
    "# Quy đổi dữ liệu Số lượng giao dịch về phần trăm để biểu diễn tính tương quan của dữ liệu\n",
    "max_count = df_plot2['COUNTS'].max()\n",
    "df_plot2['%_SOLUONG'] = df_plot2['COUNTS'] * 100 / max_count\n",
    "print(df_plot2)\n",
    " \n",
    "df_plot2.plot.bar( y=['%_SOLUONG','%_DOANHSO'])\n",
    "plt.title(\"Tỷ lệ doanh số và số lượng giao dịch theo các kênh\", fontsize=22)\n",
    "plt.ylabel('tỷ lệ %')\n",
    "plt.xticks(rotation=0)\n",
    " \n",
    "plt.show()"
   ]
  },
  {
   "cell_type": "code",
   "execution_count": 22,
   "metadata": {},
   "outputs": [
    {
     "name": "stdout",
     "output_type": "stream",
     "text": [
      "89\n"
     ]
    },
    {
     "data": {
      "image/png": "[encoded data removed]",
      "text/plain": [
       "<Figure size 864x432 with 1 Axes>"
      ]
     },
     "metadata": {
      "needs_background": "light"
     },
     "output_type": "display_data"
    }
   ],
   "source": [
    "#BIỂU ĐỒ 3. SỐ LIỆU GIAO DỊCH TRUNG BÌNH TRONG TỪNG GIỜ TRONG NGÀY\n",
    "# 9. VE BIEU DO LUU LUONG GIAO DICH CÁC KENH TRUNG BINH THEO GIO MOI NGAY\n",
    "# Tính số ngày trong dữ liệu\n",
    "number_of_days = (df['TRAN_TIME'].max().date() - df['TRAN_TIME'].min().date()).days\n",
    "print(number_of_days)\n",
    " \n",
    "# Trích ra 2 cột kênh và giờ\n",
    "df = df[['CHANNEL_ID', 'TRAN_HOUR']]\n",
    "\n",
    "# Group và tính số lượng từng kênh trong từng giờ\n",
    "count_by_CNNTime = df.groupby(['CHANNEL_ID','TRAN_HOUR']).size().reset_index(name='COUNTS_CNNTIME')\n",
    "\n",
    "# Áp dung pivot table để xoay dữ liệu\n",
    "df_plot3 = pd.pivot_table(count_by_CNNTime, values='COUNTS_CNNTIME', index=['TRAN_HOUR'], columns=['CHANNEL_ID'])\n",
    "\n",
    "# Xử lý NaN\n",
    "df_plot3['ATM'] = df_plot3['ATM'].fillna(0)\n",
    "df_plot3['INTERNET'] = df_plot3['INTERNET'].fillna(0)\n",
    "df_plot3['MOBILE'] = df_plot3['MOBILE'].fillna(0)\n",
    "\n",
    "# Tính giá trị trung bình theo ngày\n",
    "df_plot3['ATM']  = df_plot3['ATM'] / number_of_days\n",
    "df_plot3['INTERNET'] = df_plot3['INTERNET'] / number_of_days\n",
    "df_plot3['MOBILE'] = df_plot3['MOBILE'] / number_of_days\n",
    "\n",
    "# Vẽ biểu đồ\n",
    "df_plot3.plot(y=['ATM', 'INTERNET', 'MOBILE'], figsize=(12, 6),marker='o')\n",
    "plt.title('Số lượng giao dịch trung bình trong ngày theo giờ')\n",
    "plt.ylabel('Số lượng giao dịch trung bình')\n",
    "plt.xlabel('Giờ giao dịch')\n",
    " \n",
    "plt.show()"
   ]
  },
  {
   "cell_type": "code",
   "execution_count": null,
   "metadata": {},
   "outputs": [],
   "source": []
  },
  {
   "cell_type": "code",
   "execution_count": null,
   "metadata": {},
   "outputs": [],
   "source": []
  }
 ],
 "metadata": {
  "kernelspec": {
   "display_name": "Python 3.7.4 64-bit ('base': conda)",
   "language": "python",
   "name": "python37464bitbasecondaaa4334486e3c48418a02d1a0fd981a75"
  },
  "language_info": {
   "codemirror_mode": {
    "name": "ipython",
    "version": 3
   },
   "file_extension": ".py",
   "mimetype": "text/x-python",
   "name": "python",
   "nbconvert_exporter": "python",
   "pygments_lexer": "ipython3",
   "version": "3.7.4"
  }
 },
 "nbformat": 4,
 "nbformat_minor": 2
}
